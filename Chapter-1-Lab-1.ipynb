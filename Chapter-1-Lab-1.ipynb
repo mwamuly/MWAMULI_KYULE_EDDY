{
 "cells": [
  {
   "cell_type": "markdown",
   "id": "4c712892-344a-458b-b1db-64ad7ed17753",
   "metadata": {},
   "source": [
    "# A. IMPORTATION DE LIBRARIS"
   ]
  },
  {
   "cell_type": "code",
   "execution_count": 155,
   "id": "6f86de0d-c97f-4be7-af10-43fe42380e3e",
   "metadata": {},
   "outputs": [],
   "source": [
    "# Importation de libraries"
   ]
  },
  {
   "cell_type": "code",
   "execution_count": 156,
   "id": "df6ef54c-3613-424f-8665-43256b43389f",
   "metadata": {},
   "outputs": [],
   "source": [
    "import numpy as np"
   ]
  },
  {
   "cell_type": "markdown",
   "id": "ca485810-91e6-41c2-9b72-04f2402abdcd",
   "metadata": {
    "jp-MarkdownHeadingCollapsed": true
   },
   "source": [
    "# SSID: Dahouda-office et  Mot de Passe: Simba@2024"
   ]
  },
  {
   "cell_type": "code",
   "execution_count": 157,
   "id": "4e36a8d3-a163-444e-8c69-fd91886730b6",
   "metadata": {},
   "outputs": [],
   "source": [
    "import numpy as np"
   ]
  },
  {
   "cell_type": "markdown",
   "id": "5aa10908-10ee-4f76-a969-8581e2dad36e",
   "metadata": {},
   "source": [
    "# 1. Tableau"
   ]
  },
  {
   "cell_type": "markdown",
   "id": "eaffdafc-5218-4e7f-a248-6f4730e79da0",
   "metadata": {
    "editable": true,
    "slideshow": {
     "slide_type": ""
    },
    "tags": []
   },
   "source": [
    "## 1.1 Tableau a 1 D"
   ]
  },
  {
   "cell_type": "code",
   "execution_count": 158,
   "id": "c7920225-320e-4cd7-913c-5ed360b3e593",
   "metadata": {},
   "outputs": [],
   "source": [
    "# Cration d'un tableau a 1D\n",
    "tab_1D = np.array([2, 4, 6, 8, 10, 12, 14])"
   ]
  },
  {
   "cell_type": "code",
   "execution_count": 159,
   "id": "67f08704-0dfa-48d8-b26d-05c8576cbf19",
   "metadata": {},
   "outputs": [
    {
     "data": {
      "text/plain": [
       "array([ 2,  4,  6,  8, 10, 12, 14])"
      ]
     },
     "execution_count": 159,
     "metadata": {},
     "output_type": "execute_result"
    }
   ],
   "source": [
    "tab_1D"
   ]
  },
  {
   "cell_type": "code",
   "execution_count": 160,
   "id": "87791daf-9c85-465e-962d-9658686de11b",
   "metadata": {},
   "outputs": [
    {
     "name": "stdout",
     "output_type": "stream",
     "text": [
      "[ 2  4  6  8 10 12 14]\n"
     ]
    }
   ],
   "source": [
    "print(tab_1D)"
   ]
  },
  {
   "cell_type": "code",
   "execution_count": 161,
   "id": "6615eea7-bae2-42d6-b33d-53eb729e4dc7",
   "metadata": {},
   "outputs": [
    {
     "name": "stdout",
     "output_type": "stream",
     "text": [
      "(7,)\n"
     ]
    }
   ],
   "source": [
    "print(tab_1D.shape)"
   ]
  },
  {
   "cell_type": "code",
   "execution_count": 162,
   "id": "9881342b-03ff-48d6-a029-24f565165b36",
   "metadata": {},
   "outputs": [
    {
     "data": {
      "text/plain": [
       "numpy.ndarray"
      ]
     },
     "execution_count": 162,
     "metadata": {},
     "output_type": "execute_result"
    }
   ],
   "source": [
    "type(tab_1D)"
   ]
  },
  {
   "cell_type": "code",
   "execution_count": 163,
   "id": "21dfafc5-8bd6-4d90-9b2a-8b5897565022",
   "metadata": {},
   "outputs": [
    {
     "name": "stdout",
     "output_type": "stream",
     "text": [
      "Dimension du Tableau (7,)\n",
      "Type du Tableau <class 'numpy.ndarray'>\n",
      "Voici le Tableau: [ 2  4  6  8 10 12 14]\n"
     ]
    }
   ],
   "source": [
    "print(\"Dimension du Tableau\", tab_1D.shape)\n",
    "print(\"Type du Tableau\", type(tab_1D))\n",
    "print(\"Voici le Tableau:\", tab_1D)"
   ]
  },
  {
   "cell_type": "markdown",
   "id": "136a4ffa-8d5b-471d-8864-a223ef55bb49",
   "metadata": {},
   "source": [
    "## 1.2 Tableau 2D"
   ]
  },
  {
   "cell_type": "code",
   "execution_count": 164,
   "id": "dd527e95-7d17-4fb0-b939-06941ca42446",
   "metadata": {},
   "outputs": [],
   "source": [
    "# Creaton d'un tableau a 2D\n",
    "tab_2D = np.array([\n",
    "    [1, 3, 5, 7, 8],\n",
    "    [11, 33, 55, 77, 88],\n",
    "    [10, 30, 50, 70, 80]\n",
    "])"
   ]
  },
  {
   "cell_type": "code",
   "execution_count": 165,
   "id": "5f562c63-3065-4823-8ed5-1b10a307c492",
   "metadata": {},
   "outputs": [
    {
     "name": "stdout",
     "output_type": "stream",
     "text": [
      "Dimension du Tableau (3, 5)\n",
      "Type du Tableau <class 'numpy.ndarray'>\n",
      "[[ 1  3  5  7  8]\n",
      " [11 33 55 77 88]\n",
      " [10 30 50 70 80]]\n"
     ]
    }
   ],
   "source": [
    "print(\"Dimension du Tableau\", tab_2D.shape)\n",
    "print(\"Type du Tableau\", type(tab_2D))\n",
    "print(tab_2D)"
   ]
  },
  {
   "cell_type": "markdown",
   "id": "c1c68294-f69a-4238-938c-2b992463eabb",
   "metadata": {},
   "source": [
    "## 1.3 Tableau 3D"
   ]
  },
  {
   "cell_type": "code",
   "execution_count": 166,
   "id": "6d188e33-2af1-4a7f-b843-f06bab1f359c",
   "metadata": {},
   "outputs": [],
   "source": [
    "# Creation d'un tableeau 3D\n",
    "tab_3D = np.array([[\n",
    "    [11, 9, 7, 5, 3, 1],\n",
    "    [110, 90, 70, 50, 30, 10],\n",
    "    [115, 95, 75, 55, 35, 15],\n",
    "    [1100, 900, 700, 500, 300, 100],\n",
    "]])"
   ]
  },
  {
   "cell_type": "code",
   "execution_count": 167,
   "id": "75723b5d-7870-43df-8de7-1ed2372970e3",
   "metadata": {},
   "outputs": [
    {
     "name": "stdout",
     "output_type": "stream",
     "text": [
      "Dimension du Tableau (1, 4, 6)\n",
      "Type du Tableau <class 'numpy.ndarray'>\n",
      "[[[  11    9    7    5    3    1]\n",
      "  [ 110   90   70   50   30   10]\n",
      "  [ 115   95   75   55   35   15]\n",
      "  [1100  900  700  500  300  100]]]\n"
     ]
    }
   ],
   "source": [
    "print(\"Dimension du Tableau\", tab_3D.shape)\n",
    "print(\"Type du Tableau\", type(tab_3D))\n",
    "print(tab_3D)"
   ]
  },
  {
   "cell_type": "markdown",
   "id": "ec6cfc5d-36a9-472d-a939-7e2a2b5f98bd",
   "metadata": {},
   "source": [
    "## 1.4 Tableau a 4D"
   ]
  },
  {
   "cell_type": "code",
   "execution_count": 168,
   "id": "c64fc98d-1d12-458b-b012-6de3607bc7d2",
   "metadata": {},
   "outputs": [],
   "source": [
    "# Creation d'un Tableau a 4D\n",
    "tab_4D = np.array([[[\n",
    "    [2, 4, 6, 8, 10],\n",
    "    [25, 45, 65, 85, 105],\n",
    "    [20, 40, 60, 80, 100],\n",
    "]]])"
   ]
  },
  {
   "cell_type": "code",
   "execution_count": 169,
   "id": "5f9119b2-97fe-4ab2-8d44-84be1d3c298f",
   "metadata": {},
   "outputs": [
    {
     "name": "stdout",
     "output_type": "stream",
     "text": [
      "Dimension du Tableau (1, 1, 3, 5)\n",
      "Type du Tableau <class 'numpy.ndarray'>\n",
      "[[[[  2   4   6   8  10]\n",
      "   [ 25  45  65  85 105]\n",
      "   [ 20  40  60  80 100]]]]\n"
     ]
    }
   ],
   "source": [
    "print(\"Dimension du Tableau\", tab_4D.shape)\n",
    "print(\"Type du Tableau\", type(tab_4D))\n",
    "print(tab_4D)"
   ]
  },
  {
   "cell_type": "markdown",
   "id": "da24f735-bc25-4364-93be-cbd644202ef7",
   "metadata": {},
   "source": [
    "# B. OPERATIONS"
   ]
  },
  {
   "cell_type": "code",
   "execution_count": 170,
   "id": "07a3e8ba-2316-4984-bf9a-de8895b46384",
   "metadata": {},
   "outputs": [],
   "source": [
    "a= np.array([\n",
    "    [2,5,8,9,],\n",
    "    [25,55,87,95],\n",
    "])\n",
    "b=np.array([\n",
    "    [40,50,50,63],\n",
    "    [250,452,187,58],\n",
    "])"
   ]
  },
  {
   "cell_type": "code",
   "execution_count": 171,
   "id": "5958395b-5e86-4de1-8ed3-17da5153094d",
   "metadata": {},
   "outputs": [
    {
     "name": "stdout",
     "output_type": "stream",
     "text": [
      "(2, 4)\n",
      "[[ 2  5  8  9]\n",
      " [25 55 87 95]]\n",
      "(2, 4)\n",
      "[[ 40  50  50  63]\n",
      " [250 452 187  58]]\n"
     ]
    }
   ],
   "source": [
    "print(a.shape)\n",
    "print(a)\n",
    "print(b.shape)\n",
    "print(b)"
   ]
  },
  {
   "cell_type": "code",
   "execution_count": 172,
   "id": "49bde401-e823-4610-a1c5-07da945e95ee",
   "metadata": {},
   "outputs": [
    {
     "name": "stdout",
     "output_type": "stream",
     "text": [
      "[[ 42  55  58  72]\n",
      " [275 507 274 153]]\n"
     ]
    }
   ],
   "source": [
    "# addition\n",
    "print(a+b)"
   ]
  },
  {
   "cell_type": "code",
   "execution_count": 173,
   "id": "c9c9dcc0-9958-4264-a6ad-261e4f9ecb0a",
   "metadata": {},
   "outputs": [
    {
     "name": "stdout",
     "output_type": "stream",
     "text": [
      "[[ -38  -45  -42  -54]\n",
      " [-225 -397 -100   37]]\n"
     ]
    }
   ],
   "source": [
    "# soustraction\n",
    "print(a-b)"
   ]
  },
  {
   "cell_type": "markdown",
   "id": "18b2f48f-4f79-46e5-ab21-cf36314cc994",
   "metadata": {},
   "source": [
    "# C. MANIPULATION DES DONNEES "
   ]
  },
  {
   "cell_type": "code",
   "execution_count": 174,
   "id": "49adf319-2e4f-49aa-b7e6-aff78482e46b",
   "metadata": {},
   "outputs": [],
   "source": [
    "# Creation d'un dictionnaire\n",
    "\n",
    "Info_Etudiants={\n",
    "    'Matricule': '2022020109',\n",
    "    'Nom' : 'MWAMULI' ,\n",
    "    'prenom': 'EDDY' ,\n",
    "    'Age': 35 ,\n",
    "    'GPA': 'A' \n",
    "}"
   ]
  },
  {
   "cell_type": "code",
   "execution_count": 175,
   "id": "28c4fe8a-b413-4bcb-b22e-898faabeb61f",
   "metadata": {},
   "outputs": [
    {
     "data": {
      "text/plain": [
       "{'Matricule': '2022020109',\n",
       " 'Nom': 'MWAMULI',\n",
       " 'prenom': 'EDDY',\n",
       " 'Age': 35,\n",
       " 'GPA': 'A'}"
      ]
     },
     "execution_count": 175,
     "metadata": {},
     "output_type": "execute_result"
    }
   ],
   "source": [
    "Info_Etudiants"
   ]
  },
  {
   "cell_type": "code",
   "execution_count": 176,
   "id": "3436b616-ec49-4c2a-a2f5-123dc29340dd",
   "metadata": {},
   "outputs": [
    {
     "name": "stdout",
     "output_type": "stream",
     "text": [
      "{'Matricule': '2022020109', 'Nom': 'MWAMULI', 'prenom': 'EDDY', 'Age': 35, 'GPA': 'A'}\n"
     ]
    }
   ],
   "source": [
    "print(Info_Etudiants)"
   ]
  },
  {
   "cell_type": "code",
   "execution_count": 177,
   "id": "98a10b48-04b5-4e09-8a80-a80136436998",
   "metadata": {},
   "outputs": [],
   "source": [
    "Info_tous_les_etudiants_BAC3_GL_IA={\n",
    "    'Matricule':[ '2022020109','2022015477','202455878','2022545896','204552025'],\n",
    "    'Nom' : [ 'MWAMULI' ,'SAMPTWA','KIMENYEMBO','KALOMBO','KALOBO'],\n",
    "    'prenom':[ 'EDDY' ,'DIEV','Manasse','Ketsia','charly'],\n",
    "    'Age':[ 35,22,20,32,19],\n",
    "    'GPA':[ 'A','B','A','C','B']\n",
    "}"
   ]
  },
  {
   "cell_type": "code",
   "execution_count": 178,
   "id": "56ea2a76-ea3d-413e-bd19-f4cedf49dc13",
   "metadata": {},
   "outputs": [
    {
     "data": {
      "text/plain": [
       "{'Matricule': ['2022020109',\n",
       "  '2022015477',\n",
       "  '202455878',\n",
       "  '2022545896',\n",
       "  '204552025'],\n",
       " 'Nom': ['MWAMULI', 'SAMPTWA', 'KIMENYEMBO', 'KALOMBO', 'KALOBO'],\n",
       " 'prenom': ['EDDY', 'DIEV', 'Manasse', 'Ketsia', 'charly'],\n",
       " 'Age': [35, 22, 20, 32, 19],\n",
       " 'GPA': ['A', 'B', 'A', 'C', 'B']}"
      ]
     },
     "execution_count": 178,
     "metadata": {},
     "output_type": "execute_result"
    }
   ],
   "source": [
    "Info_tous_les_etudiants_BAC3_GL_IA"
   ]
  },
  {
   "cell_type": "code",
   "execution_count": 179,
   "id": "fbf6bf4b-cf82-443b-8ea5-579b42b9a946",
   "metadata": {},
   "outputs": [
    {
     "name": "stdout",
     "output_type": "stream",
     "text": [
      "{'Matricule': ['2022020109', '2022015477', '202455878', '2022545896', '204552025'], 'Nom': ['MWAMULI', 'SAMPTWA', 'KIMENYEMBO', 'KALOMBO', 'KALOBO'], 'prenom': ['EDDY', 'DIEV', 'Manasse', 'Ketsia', 'charly'], 'Age': [35, 22, 20, 32, 19], 'GPA': ['A', 'B', 'A', 'C', 'B']}\n"
     ]
    }
   ],
   "source": [
    "print(Info_tous_les_etudiants_BAC3_GL_IA)"
   ]
  },
  {
   "cell_type": "code",
   "execution_count": 180,
   "id": "bedea866-af9a-4f2f-a409-aa370cd23aea",
   "metadata": {},
   "outputs": [],
   "source": [
    "# Importer pandas\n",
    "import pandas as pd"
   ]
  },
  {
   "cell_type": "code",
   "execution_count": 181,
   "id": "ca891e16-efda-42e2-9383-3761cc86945a",
   "metadata": {},
   "outputs": [],
   "source": [
    "donnees_etudiants= pd.DataFrame(Info_tous_les_etudiants_BAC3_GL_IA)"
   ]
  },
  {
   "cell_type": "code",
   "execution_count": 182,
   "id": "6c81d1f2-3592-45cf-a1f4-8ddf4535a31a",
   "metadata": {},
   "outputs": [
    {
     "name": "stdout",
     "output_type": "stream",
     "text": [
      "    Matricule         Nom   prenom  Age GPA\n",
      "0  2022020109     MWAMULI     EDDY   35   A\n",
      "1  2022015477     SAMPTWA     DIEV   22   B\n",
      "2   202455878  KIMENYEMBO  Manasse   20   A\n",
      "3  2022545896     KALOMBO   Ketsia   32   C\n",
      "4   204552025      KALOBO   charly   19   B\n"
     ]
    }
   ],
   "source": [
    "print(donnees_etudiants)"
   ]
  },
  {
   "cell_type": "code",
   "execution_count": 183,
   "id": "1e38eb01-9d48-4b6a-99bb-6dec461745af",
   "metadata": {},
   "outputs": [
    {
     "data": {
      "text/html": [
       "<div>\n",
       "<style scoped>\n",
       "    .dataframe tbody tr th:only-of-type {\n",
       "        vertical-align: middle;\n",
       "    }\n",
       "\n",
       "    .dataframe tbody tr th {\n",
       "        vertical-align: top;\n",
       "    }\n",
       "\n",
       "    .dataframe thead th {\n",
       "        text-align: right;\n",
       "    }\n",
       "</style>\n",
       "<table border=\"1\" class=\"dataframe\">\n",
       "  <thead>\n",
       "    <tr style=\"text-align: right;\">\n",
       "      <th></th>\n",
       "      <th>Matricule</th>\n",
       "      <th>Nom</th>\n",
       "      <th>prenom</th>\n",
       "      <th>Age</th>\n",
       "      <th>GPA</th>\n",
       "    </tr>\n",
       "  </thead>\n",
       "  <tbody>\n",
       "    <tr>\n",
       "      <th>0</th>\n",
       "      <td>2022020109</td>\n",
       "      <td>MWAMULI</td>\n",
       "      <td>EDDY</td>\n",
       "      <td>35</td>\n",
       "      <td>A</td>\n",
       "    </tr>\n",
       "    <tr>\n",
       "      <th>1</th>\n",
       "      <td>2022015477</td>\n",
       "      <td>SAMPTWA</td>\n",
       "      <td>DIEV</td>\n",
       "      <td>22</td>\n",
       "      <td>B</td>\n",
       "    </tr>\n",
       "    <tr>\n",
       "      <th>2</th>\n",
       "      <td>202455878</td>\n",
       "      <td>KIMENYEMBO</td>\n",
       "      <td>Manasse</td>\n",
       "      <td>20</td>\n",
       "      <td>A</td>\n",
       "    </tr>\n",
       "    <tr>\n",
       "      <th>3</th>\n",
       "      <td>2022545896</td>\n",
       "      <td>KALOMBO</td>\n",
       "      <td>Ketsia</td>\n",
       "      <td>32</td>\n",
       "      <td>C</td>\n",
       "    </tr>\n",
       "    <tr>\n",
       "      <th>4</th>\n",
       "      <td>204552025</td>\n",
       "      <td>KALOBO</td>\n",
       "      <td>charly</td>\n",
       "      <td>19</td>\n",
       "      <td>B</td>\n",
       "    </tr>\n",
       "  </tbody>\n",
       "</table>\n",
       "</div>"
      ],
      "text/plain": [
       "    Matricule         Nom   prenom  Age GPA\n",
       "0  2022020109     MWAMULI     EDDY   35   A\n",
       "1  2022015477     SAMPTWA     DIEV   22   B\n",
       "2   202455878  KIMENYEMBO  Manasse   20   A\n",
       "3  2022545896     KALOMBO   Ketsia   32   C\n",
       "4   204552025      KALOBO   charly   19   B"
      ]
     },
     "execution_count": 183,
     "metadata": {},
     "output_type": "execute_result"
    }
   ],
   "source": [
    "donnees_etudiants"
   ]
  },
  {
   "cell_type": "code",
   "execution_count": 184,
   "id": "562410c8-7d87-4325-ab83-22970d729589",
   "metadata": {},
   "outputs": [
    {
     "data": {
      "text/html": [
       "<div>\n",
       "<style scoped>\n",
       "    .dataframe tbody tr th:only-of-type {\n",
       "        vertical-align: middle;\n",
       "    }\n",
       "\n",
       "    .dataframe tbody tr th {\n",
       "        vertical-align: top;\n",
       "    }\n",
       "\n",
       "    .dataframe thead th {\n",
       "        text-align: right;\n",
       "    }\n",
       "</style>\n",
       "<table border=\"1\" class=\"dataframe\">\n",
       "  <thead>\n",
       "    <tr style=\"text-align: right;\">\n",
       "      <th></th>\n",
       "      <th>Matricule</th>\n",
       "      <th>Nom</th>\n",
       "      <th>prenom</th>\n",
       "      <th>Age</th>\n",
       "      <th>GPA</th>\n",
       "    </tr>\n",
       "  </thead>\n",
       "  <tbody>\n",
       "    <tr>\n",
       "      <th>0</th>\n",
       "      <td>2022020109</td>\n",
       "      <td>MWAMULI</td>\n",
       "      <td>EDDY</td>\n",
       "      <td>35</td>\n",
       "      <td>A</td>\n",
       "    </tr>\n",
       "    <tr>\n",
       "      <th>1</th>\n",
       "      <td>2022015477</td>\n",
       "      <td>SAMPTWA</td>\n",
       "      <td>DIEV</td>\n",
       "      <td>22</td>\n",
       "      <td>B</td>\n",
       "    </tr>\n",
       "    <tr>\n",
       "      <th>2</th>\n",
       "      <td>202455878</td>\n",
       "      <td>KIMENYEMBO</td>\n",
       "      <td>Manasse</td>\n",
       "      <td>20</td>\n",
       "      <td>A</td>\n",
       "    </tr>\n",
       "    <tr>\n",
       "      <th>3</th>\n",
       "      <td>2022545896</td>\n",
       "      <td>KALOMBO</td>\n",
       "      <td>Ketsia</td>\n",
       "      <td>32</td>\n",
       "      <td>C</td>\n",
       "    </tr>\n",
       "    <tr>\n",
       "      <th>4</th>\n",
       "      <td>204552025</td>\n",
       "      <td>KALOBO</td>\n",
       "      <td>charly</td>\n",
       "      <td>19</td>\n",
       "      <td>B</td>\n",
       "    </tr>\n",
       "  </tbody>\n",
       "</table>\n",
       "</div>"
      ],
      "text/plain": [
       "    Matricule         Nom   prenom  Age GPA\n",
       "0  2022020109     MWAMULI     EDDY   35   A\n",
       "1  2022015477     SAMPTWA     DIEV   22   B\n",
       "2   202455878  KIMENYEMBO  Manasse   20   A\n",
       "3  2022545896     KALOMBO   Ketsia   32   C\n",
       "4   204552025      KALOBO   charly   19   B"
      ]
     },
     "execution_count": 184,
     "metadata": {},
     "output_type": "execute_result"
    }
   ],
   "source": [
    "# afficher tous les elements\n",
    "donnees_etudiants.iloc[:,:]"
   ]
  },
  {
   "cell_type": "code",
   "execution_count": 185,
   "id": "e86a53d7-7de8-4f3a-a466-d39944a6ab14",
   "metadata": {},
   "outputs": [
    {
     "data": {
      "text/html": [
       "<div>\n",
       "<style scoped>\n",
       "    .dataframe tbody tr th:only-of-type {\n",
       "        vertical-align: middle;\n",
       "    }\n",
       "\n",
       "    .dataframe tbody tr th {\n",
       "        vertical-align: top;\n",
       "    }\n",
       "\n",
       "    .dataframe thead th {\n",
       "        text-align: right;\n",
       "    }\n",
       "</style>\n",
       "<table border=\"1\" class=\"dataframe\">\n",
       "  <thead>\n",
       "    <tr style=\"text-align: right;\">\n",
       "      <th></th>\n",
       "      <th>Nom</th>\n",
       "    </tr>\n",
       "  </thead>\n",
       "  <tbody>\n",
       "    <tr>\n",
       "      <th>1</th>\n",
       "      <td>SAMPTWA</td>\n",
       "    </tr>\n",
       "  </tbody>\n",
       "</table>\n",
       "</div>"
      ],
      "text/plain": [
       "       Nom\n",
       "1  SAMPTWA"
      ]
     },
     "execution_count": 185,
     "metadata": {},
     "output_type": "execute_result"
    }
   ],
   "source": [
    "# afficher SAMPATWA uniquempent\n",
    "donnees_etudiants.iloc[1:2,1:2]"
   ]
  },
  {
   "cell_type": "code",
   "execution_count": 186,
   "id": "22ce8665-beec-48dd-b0a8-c1c0d716a95b",
   "metadata": {},
   "outputs": [
    {
     "data": {
      "text/html": [
       "<div>\n",
       "<style scoped>\n",
       "    .dataframe tbody tr th:only-of-type {\n",
       "        vertical-align: middle;\n",
       "    }\n",
       "\n",
       "    .dataframe tbody tr th {\n",
       "        vertical-align: top;\n",
       "    }\n",
       "\n",
       "    .dataframe thead th {\n",
       "        text-align: right;\n",
       "    }\n",
       "</style>\n",
       "<table border=\"1\" class=\"dataframe\">\n",
       "  <thead>\n",
       "    <tr style=\"text-align: right;\">\n",
       "      <th></th>\n",
       "      <th>Age</th>\n",
       "    </tr>\n",
       "  </thead>\n",
       "  <tbody>\n",
       "    <tr>\n",
       "      <th>0</th>\n",
       "      <td>35</td>\n",
       "    </tr>\n",
       "    <tr>\n",
       "      <th>1</th>\n",
       "      <td>22</td>\n",
       "    </tr>\n",
       "    <tr>\n",
       "      <th>2</th>\n",
       "      <td>20</td>\n",
       "    </tr>\n",
       "    <tr>\n",
       "      <th>3</th>\n",
       "      <td>32</td>\n",
       "    </tr>\n",
       "    <tr>\n",
       "      <th>4</th>\n",
       "      <td>19</td>\n",
       "    </tr>\n",
       "  </tbody>\n",
       "</table>\n",
       "</div>"
      ],
      "text/plain": [
       "   Age\n",
       "0   35\n",
       "1   22\n",
       "2   20\n",
       "3   32\n",
       "4   19"
      ]
     },
     "execution_count": 186,
     "metadata": {},
     "output_type": "execute_result"
    }
   ],
   "source": [
    "# afficher que l'age\n",
    "donnees_etudiants.iloc[:,3:4]"
   ]
  },
  {
   "cell_type": "code",
   "execution_count": 187,
   "id": "d7b68546-8363-4036-aeb4-cbae505bbd90",
   "metadata": {},
   "outputs": [],
   "source": [
    "#Ajouter les colonnes\n",
    "donnees_etudiants['Genre']=['M','M','F','M','M']\n",
    "donnees_etudiants['Pourcentage']=[70,72,61,57,74]\n"
   ]
  },
  {
   "cell_type": "code",
   "execution_count": 188,
   "id": "a8170bb0-4aaf-4195-9aae-fb4c48464c98",
   "metadata": {},
   "outputs": [
    {
     "data": {
      "text/html": [
       "<div>\n",
       "<style scoped>\n",
       "    .dataframe tbody tr th:only-of-type {\n",
       "        vertical-align: middle;\n",
       "    }\n",
       "\n",
       "    .dataframe tbody tr th {\n",
       "        vertical-align: top;\n",
       "    }\n",
       "\n",
       "    .dataframe thead th {\n",
       "        text-align: right;\n",
       "    }\n",
       "</style>\n",
       "<table border=\"1\" class=\"dataframe\">\n",
       "  <thead>\n",
       "    <tr style=\"text-align: right;\">\n",
       "      <th></th>\n",
       "      <th>Matricule</th>\n",
       "      <th>Nom</th>\n",
       "      <th>prenom</th>\n",
       "      <th>Age</th>\n",
       "      <th>GPA</th>\n",
       "      <th>Genre</th>\n",
       "      <th>Pourcentage</th>\n",
       "    </tr>\n",
       "  </thead>\n",
       "  <tbody>\n",
       "    <tr>\n",
       "      <th>0</th>\n",
       "      <td>2022020109</td>\n",
       "      <td>MWAMULI</td>\n",
       "      <td>EDDY</td>\n",
       "      <td>35</td>\n",
       "      <td>A</td>\n",
       "      <td>M</td>\n",
       "      <td>70</td>\n",
       "    </tr>\n",
       "    <tr>\n",
       "      <th>1</th>\n",
       "      <td>2022015477</td>\n",
       "      <td>SAMPTWA</td>\n",
       "      <td>DIEV</td>\n",
       "      <td>22</td>\n",
       "      <td>B</td>\n",
       "      <td>M</td>\n",
       "      <td>72</td>\n",
       "    </tr>\n",
       "    <tr>\n",
       "      <th>2</th>\n",
       "      <td>202455878</td>\n",
       "      <td>KIMENYEMBO</td>\n",
       "      <td>Manasse</td>\n",
       "      <td>20</td>\n",
       "      <td>A</td>\n",
       "      <td>F</td>\n",
       "      <td>61</td>\n",
       "    </tr>\n",
       "    <tr>\n",
       "      <th>3</th>\n",
       "      <td>2022545896</td>\n",
       "      <td>KALOMBO</td>\n",
       "      <td>Ketsia</td>\n",
       "      <td>32</td>\n",
       "      <td>C</td>\n",
       "      <td>M</td>\n",
       "      <td>57</td>\n",
       "    </tr>\n",
       "    <tr>\n",
       "      <th>4</th>\n",
       "      <td>204552025</td>\n",
       "      <td>KALOBO</td>\n",
       "      <td>charly</td>\n",
       "      <td>19</td>\n",
       "      <td>B</td>\n",
       "      <td>M</td>\n",
       "      <td>74</td>\n",
       "    </tr>\n",
       "  </tbody>\n",
       "</table>\n",
       "</div>"
      ],
      "text/plain": [
       "    Matricule         Nom   prenom  Age GPA Genre  Pourcentage\n",
       "0  2022020109     MWAMULI     EDDY   35   A     M           70\n",
       "1  2022015477     SAMPTWA     DIEV   22   B     M           72\n",
       "2   202455878  KIMENYEMBO  Manasse   20   A     F           61\n",
       "3  2022545896     KALOMBO   Ketsia   32   C     M           57\n",
       "4   204552025      KALOBO   charly   19   B     M           74"
      ]
     },
     "execution_count": 188,
     "metadata": {},
     "output_type": "execute_result"
    }
   ],
   "source": [
    "donnees_etudiants"
   ]
  },
  {
   "cell_type": "code",
   "execution_count": 189,
   "id": "0374c57f-2d3c-4f6a-ae98-5a7da8069fbc",
   "metadata": {},
   "outputs": [],
   "source": [
    "# Convertir la colonne Genre en M=1 et F=0\n",
    "# Mapping de la colonne Genre\n",
    "Mapping_Genre={\n",
    "    'M':1,\n",
    "    'F':0\n",
    "}\n"
   ]
  },
  {
   "cell_type": "code",
   "execution_count": 190,
   "id": "9dba3d57-1dd4-4a7f-be7c-3f0f05b690c1",
   "metadata": {},
   "outputs": [],
   "source": [
    "donnees_etudiants['Genre']=donnees_etudiants['Genre'].map(Mapping_Genre)"
   ]
  },
  {
   "cell_type": "code",
   "execution_count": 191,
   "id": "e8c00116-6a6d-4552-9a5e-182f2c6c3571",
   "metadata": {},
   "outputs": [
    {
     "data": {
      "text/html": [
       "<div>\n",
       "<style scoped>\n",
       "    .dataframe tbody tr th:only-of-type {\n",
       "        vertical-align: middle;\n",
       "    }\n",
       "\n",
       "    .dataframe tbody tr th {\n",
       "        vertical-align: top;\n",
       "    }\n",
       "\n",
       "    .dataframe thead th {\n",
       "        text-align: right;\n",
       "    }\n",
       "</style>\n",
       "<table border=\"1\" class=\"dataframe\">\n",
       "  <thead>\n",
       "    <tr style=\"text-align: right;\">\n",
       "      <th></th>\n",
       "      <th>Matricule</th>\n",
       "      <th>Nom</th>\n",
       "      <th>prenom</th>\n",
       "      <th>Age</th>\n",
       "      <th>GPA</th>\n",
       "      <th>Genre</th>\n",
       "      <th>Pourcentage</th>\n",
       "    </tr>\n",
       "  </thead>\n",
       "  <tbody>\n",
       "    <tr>\n",
       "      <th>0</th>\n",
       "      <td>2022020109</td>\n",
       "      <td>MWAMULI</td>\n",
       "      <td>EDDY</td>\n",
       "      <td>35</td>\n",
       "      <td>A</td>\n",
       "      <td>1</td>\n",
       "      <td>70</td>\n",
       "    </tr>\n",
       "    <tr>\n",
       "      <th>1</th>\n",
       "      <td>2022015477</td>\n",
       "      <td>SAMPTWA</td>\n",
       "      <td>DIEV</td>\n",
       "      <td>22</td>\n",
       "      <td>B</td>\n",
       "      <td>1</td>\n",
       "      <td>72</td>\n",
       "    </tr>\n",
       "    <tr>\n",
       "      <th>2</th>\n",
       "      <td>202455878</td>\n",
       "      <td>KIMENYEMBO</td>\n",
       "      <td>Manasse</td>\n",
       "      <td>20</td>\n",
       "      <td>A</td>\n",
       "      <td>0</td>\n",
       "      <td>61</td>\n",
       "    </tr>\n",
       "    <tr>\n",
       "      <th>3</th>\n",
       "      <td>2022545896</td>\n",
       "      <td>KALOMBO</td>\n",
       "      <td>Ketsia</td>\n",
       "      <td>32</td>\n",
       "      <td>C</td>\n",
       "      <td>1</td>\n",
       "      <td>57</td>\n",
       "    </tr>\n",
       "    <tr>\n",
       "      <th>4</th>\n",
       "      <td>204552025</td>\n",
       "      <td>KALOBO</td>\n",
       "      <td>charly</td>\n",
       "      <td>19</td>\n",
       "      <td>B</td>\n",
       "      <td>1</td>\n",
       "      <td>74</td>\n",
       "    </tr>\n",
       "  </tbody>\n",
       "</table>\n",
       "</div>"
      ],
      "text/plain": [
       "    Matricule         Nom   prenom  Age GPA  Genre  Pourcentage\n",
       "0  2022020109     MWAMULI     EDDY   35   A      1           70\n",
       "1  2022015477     SAMPTWA     DIEV   22   B      1           72\n",
       "2   202455878  KIMENYEMBO  Manasse   20   A      0           61\n",
       "3  2022545896     KALOMBO   Ketsia   32   C      1           57\n",
       "4   204552025      KALOBO   charly   19   B      1           74"
      ]
     },
     "execution_count": 191,
     "metadata": {},
     "output_type": "execute_result"
    }
   ],
   "source": [
    "donnees_etudiants"
   ]
  },
  {
   "cell_type": "code",
   "execution_count": 192,
   "id": "3be4d21e-92a8-4055-b494-d9e16e51d817",
   "metadata": {},
   "outputs": [
    {
     "name": "stdout",
     "output_type": "stream",
     "text": [
      "<class 'pandas.core.frame.DataFrame'>\n",
      "RangeIndex: 5 entries, 0 to 4\n",
      "Data columns (total 7 columns):\n",
      " #   Column       Non-Null Count  Dtype \n",
      "---  ------       --------------  ----- \n",
      " 0   Matricule    5 non-null      object\n",
      " 1   Nom          5 non-null      object\n",
      " 2   prenom       5 non-null      object\n",
      " 3   Age          5 non-null      int64 \n",
      " 4   GPA          5 non-null      object\n",
      " 5   Genre        5 non-null      int64 \n",
      " 6   Pourcentage  5 non-null      int64 \n",
      "dtypes: int64(3), object(4)\n",
      "memory usage: 408.0+ bytes\n"
     ]
    }
   ],
   "source": [
    "donnees_etudiants.info()"
   ]
  },
  {
   "cell_type": "markdown",
   "id": "83ba30f2-197d-4d5e-afe8-219c4d21a0e6",
   "metadata": {},
   "source": [
    "# D. VISUALIATION DES DONNEES"
   ]
  },
  {
   "cell_type": "code",
   "execution_count": 193,
   "id": "2720a83a-54b8-40d3-85a1-f74acaf40fbf",
   "metadata": {},
   "outputs": [],
   "source": [
    "# creation des donnees\n",
    "X=np.linspace(0,2,65)"
   ]
  },
  {
   "cell_type": "code",
   "execution_count": 194,
   "id": "a113c68b-409b-40bf-b46f-38fd0eb27419",
   "metadata": {},
   "outputs": [
    {
     "data": {
      "text/plain": [
       "array([0.     , 0.03125, 0.0625 , 0.09375, 0.125  , 0.15625, 0.1875 ,\n",
       "       0.21875, 0.25   , 0.28125, 0.3125 , 0.34375, 0.375  , 0.40625,\n",
       "       0.4375 , 0.46875, 0.5    , 0.53125, 0.5625 , 0.59375, 0.625  ,\n",
       "       0.65625, 0.6875 , 0.71875, 0.75   , 0.78125, 0.8125 , 0.84375,\n",
       "       0.875  , 0.90625, 0.9375 , 0.96875, 1.     , 1.03125, 1.0625 ,\n",
       "       1.09375, 1.125  , 1.15625, 1.1875 , 1.21875, 1.25   , 1.28125,\n",
       "       1.3125 , 1.34375, 1.375  , 1.40625, 1.4375 , 1.46875, 1.5    ,\n",
       "       1.53125, 1.5625 , 1.59375, 1.625  , 1.65625, 1.6875 , 1.71875,\n",
       "       1.75   , 1.78125, 1.8125 , 1.84375, 1.875  , 1.90625, 1.9375 ,\n",
       "       1.96875, 2.     ])"
      ]
     },
     "execution_count": 194,
     "metadata": {},
     "output_type": "execute_result"
    }
   ],
   "source": [
    "X"
   ]
  },
  {
   "cell_type": "code",
   "execution_count": 195,
   "id": "68150b60-eb91-4265-9edd-5f9afa0b9b1c",
   "metadata": {},
   "outputs": [],
   "source": [
    "# import MATPLOTLAB \n",
    "import matplotlib.pyplot as plt"
   ]
  },
  {
   "cell_type": "code",
   "execution_count": 213,
   "id": "000ef6a6-d29a-4a5e-ba9d-f005c4ceebec",
   "metadata": {},
   "outputs": [
    {
     "data": {
      "image/png": "[encoded data removed]",
      "text/plain": [
       "<Figure size 600x400 with 1 Axes>"
      ]
     },
     "metadata": {},
     "output_type": "display_data"
    }
   ],
   "source": [
    "fig,ax=plt.subplots(figsize=(6,4))\n",
    "ax.plot"
   ]
  },
  {
   "cell_type": "code",
   "execution_count": 197,
   "id": "367d9fbb-cc68-4697-bfe0-8c1981606b38",
   "metadata": {},
   "outputs": [],
   "source": [
    "iris_data=sns.load_dataset('iris')"
   ]
  },
  {
   "cell_type": "code",
   "execution_count": 198,
   "id": "2406578f-3bad-4a32-8240-a6fa914b1268",
   "metadata": {},
   "outputs": [
    {
     "data": {
      "text/html": [
       "<div>\n",
       "<style scoped>\n",
       "    .dataframe tbody tr th:only-of-type {\n",
       "        vertical-align: middle;\n",
       "    }\n",
       "\n",
       "    .dataframe tbody tr th {\n",
       "        vertical-align: top;\n",
       "    }\n",
       "\n",
       "    .dataframe thead th {\n",
       "        text-align: right;\n",
       "    }\n",
       "</style>\n",
       "<table border=\"1\" class=\"dataframe\">\n",
       "  <thead>\n",
       "    <tr style=\"text-align: right;\">\n",
       "      <th></th>\n",
       "      <th>sepal_length</th>\n",
       "      <th>sepal_width</th>\n",
       "      <th>petal_length</th>\n",
       "      <th>petal_width</th>\n",
       "      <th>species</th>\n",
       "    </tr>\n",
       "  </thead>\n",
       "  <tbody>\n",
       "    <tr>\n",
       "      <th>0</th>\n",
       "      <td>5.1</td>\n",
       "      <td>3.5</td>\n",
       "      <td>1.4</td>\n",
       "      <td>0.2</td>\n",
       "      <td>setosa</td>\n",
       "    </tr>\n",
       "    <tr>\n",
       "      <th>1</th>\n",
       "      <td>4.9</td>\n",
       "      <td>3.0</td>\n",
       "      <td>1.4</td>\n",
       "      <td>0.2</td>\n",
       "      <td>setosa</td>\n",
       "    </tr>\n",
       "    <tr>\n",
       "      <th>2</th>\n",
       "      <td>4.7</td>\n",
       "      <td>3.2</td>\n",
       "      <td>1.3</td>\n",
       "      <td>0.2</td>\n",
       "      <td>setosa</td>\n",
       "    </tr>\n",
       "    <tr>\n",
       "      <th>3</th>\n",
       "      <td>4.6</td>\n",
       "      <td>3.1</td>\n",
       "      <td>1.5</td>\n",
       "      <td>0.2</td>\n",
       "      <td>setosa</td>\n",
       "    </tr>\n",
       "    <tr>\n",
       "      <th>4</th>\n",
       "      <td>5.0</td>\n",
       "      <td>3.6</td>\n",
       "      <td>1.4</td>\n",
       "      <td>0.2</td>\n",
       "      <td>setosa</td>\n",
       "    </tr>\n",
       "  </tbody>\n",
       "</table>\n",
       "</div>"
      ],
      "text/plain": [
       "   sepal_length  sepal_width  petal_length  petal_width species\n",
       "0           5.1          3.5           1.4          0.2  setosa\n",
       "1           4.9          3.0           1.4          0.2  setosa\n",
       "2           4.7          3.2           1.3          0.2  setosa\n",
       "3           4.6          3.1           1.5          0.2  setosa\n",
       "4           5.0          3.6           1.4          0.2  setosa"
      ]
     },
     "execution_count": 198,
     "metadata": {},
     "output_type": "execute_result"
    }
   ],
   "source": [
    "iris_data.head()"
   ]
  },
  {
   "cell_type": "code",
   "execution_count": 199,
   "id": "e5af8b51-3767-4005-837a-9962c3a22b9e",
   "metadata": {},
   "outputs": [
    {
     "data": {
      "text/plain": [
       "(150, 5)"
      ]
     },
     "execution_count": 199,
     "metadata": {},
     "output_type": "execute_result"
    }
   ],
   "source": [
    "iris_data.shape"
   ]
  },
  {
   "cell_type": "code",
   "execution_count": 200,
   "id": "8555c64f-de78-4852-9830-c88fbb78cabe",
   "metadata": {},
   "outputs": [
    {
     "data": {
      "text/plain": [
       "array(['setosa', 'versicolor', 'virginica'], dtype=object)"
      ]
     },
     "execution_count": 200,
     "metadata": {},
     "output_type": "execute_result"
    }
   ],
   "source": [
    "iris_data['species'].unique()"
   ]
  },
  {
   "cell_type": "code",
   "execution_count": 201,
   "id": "c7ad4197-c974-4683-a943-8df7c47056d1",
   "metadata": {},
   "outputs": [
    {
     "data": {
      "text/plain": [
       "<Axes: xlabel='sepal_length', ylabel='sepal_width'>"
      ]
     },
     "execution_count": 201,
     "metadata": {},
     "output_type": "execute_result"
    },
    {
     "data": {
      "image/png": "[encoded data removed]",
      "text/plain": [
       "<Figure size 640x480 with 1 Axes>"
      ]
     },
     "metadata": {},
     "output_type": "display_data"
    }
   ],
   "source": [
    "sns.scatterplot(x='sepal_length',y='sepal_width',data=iris_data,hue='species')"
   ]
  },
  {
   "cell_type": "code",
   "execution_count": 202,
   "id": "061f720e-6b3e-4ed4-a3b4-4ecc4163810e",
   "metadata": {},
   "outputs": [],
   "source": [
    "Mapping_species={\n",
    "'setosa':0,\n",
    "'versicolor':1,\n",
    "'virginica':2\n",
    "\n",
    "}\n",
    "iris_data['species']=iris_data['species'].map(Mapping_species)"
   ]
  },
  {
   "cell_type": "code",
   "execution_count": 203,
   "id": "d7ec2f97-3080-4cf6-a1f2-9c86c5586a5e",
   "metadata": {},
   "outputs": [
    {
     "data": {
      "text/html": [
       "<div>\n",
       "<style scoped>\n",
       "    .dataframe tbody tr th:only-of-type {\n",
       "        vertical-align: middle;\n",
       "    }\n",
       "\n",
       "    .dataframe tbody tr th {\n",
       "        vertical-align: top;\n",
       "    }\n",
       "\n",
       "    .dataframe thead th {\n",
       "        text-align: right;\n",
       "    }\n",
       "</style>\n",
       "<table border=\"1\" class=\"dataframe\">\n",
       "  <thead>\n",
       "    <tr style=\"text-align: right;\">\n",
       "      <th></th>\n",
       "      <th>sepal_length</th>\n",
       "      <th>sepal_width</th>\n",
       "      <th>petal_length</th>\n",
       "      <th>petal_width</th>\n",
       "      <th>species</th>\n",
       "    </tr>\n",
       "  </thead>\n",
       "  <tbody>\n",
       "    <tr>\n",
       "      <th>0</th>\n",
       "      <td>5.1</td>\n",
       "      <td>3.5</td>\n",
       "      <td>1.4</td>\n",
       "      <td>0.2</td>\n",
       "      <td>0</td>\n",
       "    </tr>\n",
       "    <tr>\n",
       "      <th>1</th>\n",
       "      <td>4.9</td>\n",
       "      <td>3.0</td>\n",
       "      <td>1.4</td>\n",
       "      <td>0.2</td>\n",
       "      <td>0</td>\n",
       "    </tr>\n",
       "    <tr>\n",
       "      <th>2</th>\n",
       "      <td>4.7</td>\n",
       "      <td>3.2</td>\n",
       "      <td>1.3</td>\n",
       "      <td>0.2</td>\n",
       "      <td>0</td>\n",
       "    </tr>\n",
       "    <tr>\n",
       "      <th>3</th>\n",
       "      <td>4.6</td>\n",
       "      <td>3.1</td>\n",
       "      <td>1.5</td>\n",
       "      <td>0.2</td>\n",
       "      <td>0</td>\n",
       "    </tr>\n",
       "    <tr>\n",
       "      <th>4</th>\n",
       "      <td>5.0</td>\n",
       "      <td>3.6</td>\n",
       "      <td>1.4</td>\n",
       "      <td>0.2</td>\n",
       "      <td>0</td>\n",
       "    </tr>\n",
       "    <tr>\n",
       "      <th>...</th>\n",
       "      <td>...</td>\n",
       "      <td>...</td>\n",
       "      <td>...</td>\n",
       "      <td>...</td>\n",
       "      <td>...</td>\n",
       "    </tr>\n",
       "    <tr>\n",
       "      <th>145</th>\n",
       "      <td>6.7</td>\n",
       "      <td>3.0</td>\n",
       "      <td>5.2</td>\n",
       "      <td>2.3</td>\n",
       "      <td>2</td>\n",
       "    </tr>\n",
       "    <tr>\n",
       "      <th>146</th>\n",
       "      <td>6.3</td>\n",
       "      <td>2.5</td>\n",
       "      <td>5.0</td>\n",
       "      <td>1.9</td>\n",
       "      <td>2</td>\n",
       "    </tr>\n",
       "    <tr>\n",
       "      <th>147</th>\n",
       "      <td>6.5</td>\n",
       "      <td>3.0</td>\n",
       "      <td>5.2</td>\n",
       "      <td>2.0</td>\n",
       "      <td>2</td>\n",
       "    </tr>\n",
       "    <tr>\n",
       "      <th>148</th>\n",
       "      <td>6.2</td>\n",
       "      <td>3.4</td>\n",
       "      <td>5.4</td>\n",
       "      <td>2.3</td>\n",
       "      <td>2</td>\n",
       "    </tr>\n",
       "    <tr>\n",
       "      <th>149</th>\n",
       "      <td>5.9</td>\n",
       "      <td>3.0</td>\n",
       "      <td>5.1</td>\n",
       "      <td>1.8</td>\n",
       "      <td>2</td>\n",
       "    </tr>\n",
       "  </tbody>\n",
       "</table>\n",
       "<p>150 rows × 5 columns</p>\n",
       "</div>"
      ],
      "text/plain": [
       "     sepal_length  sepal_width  petal_length  petal_width  species\n",
       "0             5.1          3.5           1.4          0.2        0\n",
       "1             4.9          3.0           1.4          0.2        0\n",
       "2             4.7          3.2           1.3          0.2        0\n",
       "3             4.6          3.1           1.5          0.2        0\n",
       "4             5.0          3.6           1.4          0.2        0\n",
       "..            ...          ...           ...          ...      ...\n",
       "145           6.7          3.0           5.2          2.3        2\n",
       "146           6.3          2.5           5.0          1.9        2\n",
       "147           6.5          3.0           5.2          2.0        2\n",
       "148           6.2          3.4           5.4          2.3        2\n",
       "149           5.9          3.0           5.1          1.8        2\n",
       "\n",
       "[150 rows x 5 columns]"
      ]
     },
     "execution_count": 203,
     "metadata": {},
     "output_type": "execute_result"
    }
   ],
   "source": [
    "iris_data"
   ]
  },
  {
   "cell_type": "code",
   "execution_count": 204,
   "id": "9451a225-98f2-4252-9beb-0ed7fe0b5a53",
   "metadata": {},
   "outputs": [
    {
     "data": {
      "text/plain": [
       "array([0, 1, 2])"
      ]
     },
     "execution_count": 204,
     "metadata": {},
     "output_type": "execute_result"
    }
   ],
   "source": [
    "iris_data['species'].unique()"
   ]
  },
  {
   "cell_type": "code",
   "execution_count": null,
   "id": "04a11f55-80ea-4b71-ab9c-d4d666f18e2d",
   "metadata": {},
   "outputs": [],
   "source": []
  }
 ],
 "metadata": {
  "kernelspec": {
   "display_name": "Python 3 (ipykernel)",
   "language": "python",
   "name": "python3"
  },
  "language_info": {
   "codemirror_mode": {
    "name": "ipython",
    "version": 3
   },
   "file_extension": ".py",
   "mimetype": "text/x-python",
   "name": "python",
   "nbconvert_exporter": "python",
   "pygments_lexer": "ipython3",
   "version": "3.10.16"
  }
 },
 "nbformat": 4,
 "nbformat_minor": 5
}
